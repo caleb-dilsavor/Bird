{
 "cells": [
  {
   "cell_type": "code",
   "execution_count": null,
   "metadata": {},
   "outputs": [],
   "source": [
    "import pandas as pd\n",
    "import os"
   ]
  },
  {
   "cell_type": "code",
   "execution_count": null,
   "metadata": {},
   "outputs": [],
   "source": [
    "## Use this block to configure the concatenator\n",
    "\n",
    "# Name of the csv file to be concatenated\n",
    "concat_file = 'feature_vector.csv'\n",
    "\n",
    "# Data to be concatenated are read from these directories\n",
    "data_dir_list = [\n",
    "## A list of directories containing partial data.\n",
    "# eg.: 'Data1','Data2','Data3','Data4',\n",
    "]\n",
    "\n",
    "# Concatenated csv file will be written to this directory\n",
    "output_dir = 'Data'"
   ]
  },
  {
   "cell_type": "code",
   "execution_count": null,
   "metadata": {},
   "outputs": [],
   "source": [
    "if not os.path.exists(output_dir):\n",
    "    os.mkdir(output_dir)\n",
    "    \n",
    "def getFV(path):\n",
    "    return pd.read_csv(os.path.join(path,concat_file),header = None)#,names=concat_names)\n",
    "\n",
    "df = pd.concat([getFV(x) for x in data_dir_list],axis=0)\n",
    "\n",
    "df.to_csv(os.path.join(output_dir,concat_file),sep=',',header=False,index=False)\n",
    "\n",
    "df.shape"
   ]
  },
  {
   "cell_type": "code",
   "execution_count": null,
   "metadata": {},
   "outputs": [],
   "source": []
  }
 ],
 "metadata": {
  "kernelspec": {
   "display_name": "Python 3",
   "language": "python",
   "name": "python3"
  },
  "language_info": {
   "codemirror_mode": {
    "name": "ipython",
    "version": 3
   },
   "file_extension": ".py",
   "mimetype": "text/x-python",
   "name": "python",
   "nbconvert_exporter": "python",
   "pygments_lexer": "ipython3",
   "version": "3.7.3"
  }
 },
 "nbformat": 4,
 "nbformat_minor": 2
}
