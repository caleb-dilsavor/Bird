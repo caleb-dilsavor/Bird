{
 "cells": [
  {
   "cell_type": "code",
   "execution_count": 1,
   "metadata": {},
   "outputs": [
    {
     "ename": "ERROR",
     "evalue": "Error in library(\"warbleR\"): there is no package called ‘warbleR’\n",
     "output_type": "error",
     "traceback": [
      "Error in library(\"warbleR\"): there is no package called ‘warbleR’\nTraceback:\n",
      "1. library(\"warbleR\")",
      "2. stop(txt, domain = NA)"
     ]
    }
   ],
   "source": [
    "library('warbleR')"
   ]
  },
  {
   "cell_type": "code",
   "execution_count": 2,
   "metadata": {},
   "outputs": [
    {
     "name": "stderr",
     "output_type": "stream",
     "text": [
      "also installing the dependencies ‘BH’, ‘lattice’, ‘httpuv’, ‘mime’, ‘xtable’, ‘R6’, ‘sourcetools’, ‘later’, ‘promises’, ‘rlang’, ‘signal’, ‘proxy’, ‘Deriv’, ‘MASS’, ‘zoo’, ‘shiny’, ‘reshape2’, ‘mvtnorm’, ‘plyr’, ‘phonTools’, ‘moments’, ‘maps’, ‘tuneR’, ‘seewave’, ‘NatureSounds’, ‘bitops’, ‘dtw’, ‘fftw’, ‘iterators’, ‘jpeg’, ‘monitoR’, ‘pbapply’, ‘RCurl’, ‘rjson’, ‘pracma’, ‘Sim.DiffProc’, ‘soundgen’, ‘bioacoustics’\n",
      "\n",
      "Warning message in install.packages(\"warbleR\"):\n",
      "“installation of package ‘fftw’ had non-zero exit status”Warning message in install.packages(\"warbleR\"):\n",
      "“installation of package ‘bioacoustics’ had non-zero exit status”Warning message in install.packages(\"warbleR\"):\n",
      "“installation of package ‘warbleR’ had non-zero exit status”Updating HTML index of packages in '.Library'\n",
      "Making 'packages.html' ... done\n"
     ]
    }
   ],
   "source": [
    "install.packages('warbleR')\n"
   ]
  },
  {
   "cell_type": "code",
   "execution_count": 3,
   "metadata": {},
   "outputs": [
    {
     "ename": "ERROR",
     "evalue": "Error in install.fftw(\"fftw\"): could not find function \"install.fftw\"\n",
     "output_type": "error",
     "traceback": [
      "Error in install.fftw(\"fftw\"): could not find function \"install.fftw\"\nTraceback:\n"
     ]
    }
   ],
   "source": [
    "install.fftw('fftw')"
   ]
  },
  {
   "cell_type": "code",
   "execution_count": null,
   "metadata": {},
   "outputs": [],
   "source": []
  }
 ],
 "metadata": {
  "kernelspec": {
   "display_name": "R",
   "language": "R",
   "name": "ir"
  },
  "language_info": {
   "codemirror_mode": "r",
   "file_extension": ".r",
   "mimetype": "text/x-r-source",
   "name": "R",
   "pygments_lexer": "r",
   "version": "3.5.1"
  }
 },
 "nbformat": 4,
 "nbformat_minor": 2
}
